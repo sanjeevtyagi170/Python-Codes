{
 "cells": [
  {
   "cell_type": "code",
   "execution_count": 8,
   "metadata": {},
   "outputs": [
    {
     "name": "stdout",
     "output_type": "stream",
     "text": [
      "12\n"
     ]
    },
    {
     "ename": "NameError",
     "evalue": "name 'prev_month' is not defined",
     "output_type": "error",
     "traceback": [
      "\u001b[0;31m---------------------------------------------------------------------------\u001b[0m",
      "\u001b[0;31mNameError\u001b[0m                                 Traceback (most recent call last)",
      "Cell \u001b[0;32mIn[8], line 6\u001b[0m\n\u001b[1;32m      4\u001b[0m month \u001b[38;5;241m=\u001b[39mdt[\u001b[38;5;241m5\u001b[39m:\u001b[38;5;241m7\u001b[39m]\n\u001b[1;32m      5\u001b[0m \u001b[38;5;28mprint\u001b[39m(month)\n\u001b[0;32m----> 6\u001b[0m \u001b[38;5;28;01mif\u001b[39;00m month\u001b[38;5;241m!=\u001b[39m\u001b[43mprev_month\u001b[49m:\n\u001b[1;32m      7\u001b[0m     \u001b[38;5;28;01mif\u001b[39;00m card_cnt\u001b[38;5;241m>\u001b[39m\u001b[38;5;241m=\u001b[39m\u001b[38;5;241m3\u001b[39m \u001b[38;5;129;01mand\u001b[39;00m card_total\u001b[38;5;241m>\u001b[39m\u001b[38;5;241m=\u001b[39m\u001b[38;5;241m100\u001b[39m:\n\u001b[1;32m      8\u001b[0m         \u001b[38;5;28;01mpass\u001b[39;00m\n",
      "\u001b[0;31mNameError\u001b[0m: name 'prev_month' is not defined"
     ]
    }
   ],
   "source": [
    "\n",
    "A=[100,100,100,-10]\n",
    "D=[\"2020-12-31\",\"2020-12-22\",\"2020-12-03\",\"2020-12-29\"]\n",
    "bal = 0\n",
    "card_payments = 0\n",
    "card_payment_total = 0\n",
    "monthly_card_count = 0\n",
    "monthly_card_total = 0\n",
    "fees_paid = 0\n",
    "prev_month = None\n",
    "for amt, dt in zip(A,D):\n",
    "    month =dt[5:7]\n",
    "    print(month)\n",
    "    if month!=prev_month:\n",
    "        if card_cnt>=3 and card_total>=100:\n",
    "            pass\n",
    "        else:\n",
    "            bal-=5\n",
    "            fees+=5\n",
    "        card_cnt=0\n",
    "        card_total=0\n",
    "    if amt<0:\n",
    "        card_payments+=1\n",
    "        card_total_overall+=amount\n",
    "        card_cnt+=1\n",
    "        card_total+=amt\n",
    "        bal+=amt\n",
    "    else:\n",
    "        bal+=amt\n",
    "        \n",
    "        "
   ]
  }
 ],
 "metadata": {
  "kernelspec": {
   "display_name": "Python 3",
   "language": "python",
   "name": "python3"
  },
  "language_info": {
   "codemirror_mode": {
    "name": "ipython",
    "version": 3
   },
   "file_extension": ".py",
   "mimetype": "text/x-python",
   "name": "python",
   "nbconvert_exporter": "python",
   "pygments_lexer": "ipython3",
   "version": "3.10.13"
  }
 },
 "nbformat": 4,
 "nbformat_minor": 2
}
