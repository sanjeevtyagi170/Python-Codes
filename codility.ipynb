{
 "cells": [
  {
   "cell_type": "code",
   "execution_count": 17,
   "metadata": {},
   "outputs": [
    {
     "name": "stdout",
     "output_type": "stream",
     "text": [
      "285\n"
     ]
    }
   ],
   "source": [
    "def solution(A, D):\n",
    "    \"\"\"\n",
    "    Calculates the final balance of a bank account considering transactions and card fees.\n",
    "\n",
    "    Args:\n",
    "        A: An array of N integers representing transaction amounts.\n",
    "        D: An array of N strings representing transaction dates in YYYY-MM-DD format.\n",
    "\n",
    "    Returns:\n",
    "        The final balance of the account.\n",
    "    \"\"\"\n",
    "\n",
    "    # Handle empty arrays explicitly\n",
    "    if not A or not D:\n",
    "        return 0\n",
    "\n",
    "    # Ensure correct array lengths\n",
    "    if len(A) != len(D):\n",
    "        raise ValueError(\"Input arrays must have the same length.\")\n",
    "\n",
    "    # Initialize variables\n",
    "    balance = 0\n",
    "    monthly_card_payments = 0\n",
    "    total_card_payment_amount = 0\n",
    "    card_fee_applied = False\n",
    "\n",
    "    # Process transactions month by month\n",
    "    for i in range(len(A)):\n",
    "        amount = A[i]\n",
    "        date_parts = D[i].split('-')\n",
    "        year, month, day = int(date_parts[0]), int(date_parts[1]), int(date_parts[2])\n",
    "\n",
    "        # Update daily balance\n",
    "        balance += amount\n",
    "\n",
    "        # Identify card payments and track monthly count and total amount\n",
    "        if amount < 0:\n",
    "            monthly_card_payments += 1\n",
    "            total_card_payment_amount += amount\n",
    "\n",
    "        # Check if fees should be applied at month end (including 31st)\n",
    "        if day in [30, 31]:\n",
    "            # Waive fee if sufficient card payments and amount for this month\n",
    "            if monthly_card_payments >= 3 and total_card_payment_amount >= 100:\n",
    "                card_fee_applied = False\n",
    "            else:\n",
    "                card_fee_applied = True\n",
    "                balance -= 5\n",
    "\n",
    "            # Reset monthly card payment metrics\n",
    "            monthly_card_payments = 0\n",
    "            total_card_payment_amount = 0\n",
    "\n",
    "    # Apply card fee for the last month if necessary\n",
    "    if card_fee_applied and day == 31:\n",
    "        balance -= 5\n",
    "\n",
    "    return balance\n",
    "\n",
    "# Example usage\n",
    "A = [100, 100, 100, -10]\n",
    "D = [\"2020-12-31\", \"2020-12-22\", \"2020-12-03\", \"2020-12-29\"]\n",
    "result = solution(A, D)\n",
    "print(result)  # Expected output: 230\n"
   ]
  },
  {
   "cell_type": "code",
   "execution_count": 24,
   "metadata": {},
   "outputs": [
    {
     "ename": "KeyError",
     "evalue": "10",
     "output_type": "error",
     "traceback": [
      "\u001b[0;31m---------------------------------------------------------------------------\u001b[0m",
      "\u001b[0;31mKeyError\u001b[0m                                  Traceback (most recent call last)",
      "Cell \u001b[0;32mIn[24], line 36\u001b[0m\n\u001b[1;32m     34\u001b[0m A\u001b[38;5;241m=\u001b[39m[\u001b[38;5;241m20\u001b[39m,\u001b[38;5;241m10\u001b[39m,\u001b[38;5;241m10\u001b[39m,\u001b[38;5;241m10\u001b[39m,\u001b[38;5;241m30\u001b[39m,\u001b[38;5;241m20\u001b[39m]\n\u001b[1;32m     35\u001b[0m R\u001b[38;5;241m=\u001b[39m\u001b[38;5;241m3\u001b[39m\n\u001b[0;32m---> 36\u001b[0m \u001b[43msolution\u001b[49m\u001b[43m(\u001b[49m\u001b[43mA\u001b[49m\u001b[43m,\u001b[49m\u001b[43mR\u001b[49m\u001b[43m)\u001b[49m\n",
      "Cell \u001b[0;32mIn[24], line 23\u001b[0m, in \u001b[0;36msolution\u001b[0;34m(A, R)\u001b[0m\n\u001b[1;32m     21\u001b[0m \u001b[38;5;66;03m# Check if it's time to shrink the window (remove items outside the window)\u001b[39;00m\n\u001b[1;32m     22\u001b[0m \u001b[38;5;28;01mif\u001b[39;00m end \u001b[38;5;241m-\u001b[39m start \u001b[38;5;241m+\u001b[39m \u001b[38;5;241m1\u001b[39m \u001b[38;5;241m>\u001b[39m N \u001b[38;5;241m-\u001b[39m R:\n\u001b[0;32m---> 23\u001b[0m     \u001b[43munique_types\u001b[49m\u001b[38;5;241;43m.\u001b[39;49m\u001b[43mremove\u001b[49m\u001b[43m(\u001b[49m\u001b[43mA\u001b[49m\u001b[43m[\u001b[49m\u001b[43mstart\u001b[49m\u001b[43m]\u001b[49m\u001b[43m)\u001b[49m\n\u001b[1;32m     24\u001b[0m     start \u001b[38;5;241m+\u001b[39m\u001b[38;5;241m=\u001b[39m \u001b[38;5;241m1\u001b[39m\n\u001b[1;32m     26\u001b[0m \u001b[38;5;66;03m# Update maximum types\u001b[39;00m\n",
      "\u001b[0;31mKeyError\u001b[0m: 10"
     ]
    }
   ],
   "source": [
    "def solution(A, R):\n",
    "    \n",
    "\n",
    "    N = len(A)\n",
    "\n",
    "    # Handle edge cases: all shelves need to be freed or no shelves need to be freed\n",
    "    if R == N:\n",
    "        return 0  # No items can be stored\n",
    "    elif R == 0:\n",
    "        return len(set(A))  # All types can be stored\n",
    "\n",
    "    # Initialize variables: track maximum types, current unique types, and starting index of the shelf window\n",
    "    max_types = 0\n",
    "    unique_types = set()\n",
    "    start = 0\n",
    "\n",
    "    # Iterate through the array using a sliding window approach\n",
    "    for end in range(N):\n",
    "        unique_types.add(A[end])  # Add the current item to the set\n",
    "\n",
    "        # Check if it's time to shrink the window (remove items outside the window)\n",
    "        if end - start + 1 > N - R:\n",
    "            unique_types.remove(A[start])\n",
    "            start += 1\n",
    "\n",
    "        # Update maximum types\n",
    "        max_types = max(max_types, len(unique_types))\n",
    "\n",
    "    return max_types\n",
    "A=[2,1,2,3,2,2]\n",
    "R=3\n",
    "A=[2,2,1,1,2]\n",
    "R=2\n",
    "A=[20,10,10,10,30,20]\n",
    "R=3\n",
    "solution(A,R)\n"
   ]
  }
 ],
 "metadata": {
  "kernelspec": {
   "display_name": "Python 3",
   "language": "python",
   "name": "python3"
  },
  "language_info": {
   "codemirror_mode": {
    "name": "ipython",
    "version": 3
   },
   "file_extension": ".py",
   "mimetype": "text/x-python",
   "name": "python",
   "nbconvert_exporter": "python",
   "pygments_lexer": "ipython3",
   "version": "3.10.13"
  }
 },
 "nbformat": 4,
 "nbformat_minor": 2
}
