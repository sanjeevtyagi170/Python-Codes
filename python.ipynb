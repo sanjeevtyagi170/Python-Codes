lst=[3,2,1,0,4]
i=0
while (i<len(lst)):
    print("inside for loop block",i,lst[i])
    jump=lst[i]
    i=i+jump
    if i>len(lst):
        print("Jump exceed length of array")
        break
    elif i==len(lst)-1:
        print("True",i,lst[i])
        break
    elif lst[i] ==0 and i!=(len(lst)):
        print("False",i,lst[i])
        break
