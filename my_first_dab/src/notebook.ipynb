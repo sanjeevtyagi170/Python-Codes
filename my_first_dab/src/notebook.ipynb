{
 "cells": [
  {
   "cell_type": "markdown",
   "metadata": {
    "application/vnd.databricks.v1+cell": {
     "cellMetadata": {},
     "inputWidgets": {},
     "nuid": "ee353e42-ff58-4955-9608-12865bd0950e",
     "showTitle": false,
     "title": ""
    }
   },
   "source": [
    "# Create bronze table in unity catalog"
   ]
  },
  {
   "cell_type": "code",
   "execution_count": 1,
   "metadata": {
    "application/vnd.databricks.v1+cell": {
     "cellMetadata": {
      "byteLimit": 2048000,
      "rowLimit": 10000
     },
     "inputWidgets": {},
     "nuid": "6bca260b-13d1-448f-8082-30b60a85c9ae",
     "showTitle": false,
     "title": ""
    }
   },
   "outputs": [
    {
     "ename": "NameError",
     "evalue": "name 'spark' is not defined",
     "output_type": "error",
     "traceback": [
      "\u001b[0;31m---------------------------------------------------------------------------\u001b[0m",
      "\u001b[0;31mNameError\u001b[0m                                 Traceback (most recent call last)",
      "Cell \u001b[0;32mIn[1], line 1\u001b[0m\n\u001b[0;32m----> 1\u001b[0m df\u001b[38;5;241m=\u001b[39m\u001b[43mspark\u001b[49m\u001b[38;5;241m.\u001b[39mcreateDataFrame([(\u001b[38;5;241m101\u001b[39m,\u001b[38;5;241m11\u001b[39m,\u001b[38;5;241m100\u001b[39m),(\u001b[38;5;241m101\u001b[39m,\u001b[38;5;241m12\u001b[39m,\u001b[38;5;241m400\u001b[39m),(\u001b[38;5;241m101\u001b[39m,\u001b[38;5;241m13\u001b[39m,\u001b[38;5;241m300\u001b[39m),(\u001b[38;5;241m102\u001b[39m,\u001b[38;5;241m1\u001b[39m,\u001b[38;5;241m1000\u001b[39m),(\u001b[38;5;241m102\u001b[39m,\u001b[38;5;241m2\u001b[39m,\u001b[38;5;241m200\u001b[39m),(\u001b[38;5;241m102\u001b[39m,\u001b[38;5;241m3\u001b[39m,\u001b[38;5;241m500\u001b[39m),(\u001b[38;5;241m103\u001b[39m,\u001b[38;5;241m4\u001b[39m,\u001b[38;5;241m500\u001b[39m),(\u001b[38;5;241m103\u001b[39m,\u001b[38;5;241m5\u001b[39m,\u001b[38;5;241m300\u001b[39m),(\u001b[38;5;241m103\u001b[39m,\u001b[38;5;241m6\u001b[39m,\u001b[38;5;241m400\u001b[39m)],schema\u001b[38;5;241m=\u001b[39m[\u001b[38;5;124m\"\u001b[39m\u001b[38;5;124mDepartment\u001b[39m\u001b[38;5;124m\"\u001b[39m,\u001b[38;5;124m\"\u001b[39m\u001b[38;5;124mCustomer\u001b[39m\u001b[38;5;124m\"\u001b[39m,\u001b[38;5;124m\"\u001b[39m\u001b[38;5;124mSales\u001b[39m\u001b[38;5;124m\"\u001b[39m])\n\u001b[1;32m      2\u001b[0m df\u001b[38;5;241m.\u001b[39mcreateOrReplaceTempView(\u001b[38;5;124m\"\u001b[39m\u001b[38;5;124mdf\u001b[39m\u001b[38;5;124m\"\u001b[39m)\n\u001b[1;32m      3\u001b[0m display(spark\u001b[38;5;241m.\u001b[39msql(\u001b[38;5;124m\"\"\"\u001b[39m\u001b[38;5;124mselect * from df\u001b[39m\u001b[38;5;124m\"\"\"\u001b[39m))\n",
      "\u001b[0;31mNameError\u001b[0m: name 'spark' is not defined"
     ]
    }
   ],
   "source": [
    "df=spark.createDataFrame([(101,11,100),(101,12,400),(101,13,300),(102,1,1000),(102,2,200),(102,3,500),(103,4,500),(103,5,300),(103,6,400)],schema=[\"Department\",\"Customer\",\"Sales\"])\n",
    "df.write.mode(\"append\").saveAsTable(\"databricks_ws.database.sales\")"
   ]
  },
  {
   "cell_type": "code",
   "execution_count": null,
   "metadata": {},
   "outputs": [],
   "source": [
    "%sql\n",
    "select count(*) from databricks_ws.database.sales;"
   ]
  }
 ],
 "metadata": {
  "application/vnd.databricks.v1+notebook": {
   "dashboards": [],
   "language": "python",
   "notebookMetadata": {
    "pythonIndentUnit": 2
   },
   "notebookName": "notebook",
   "widgets": {}
  },
  "kernelspec": {
   "display_name": "Python 3",
   "language": "python",
   "name": "python3"
  },
  "language_info": {
   "codemirror_mode": {
    "name": "ipython",
    "version": 3
   },
   "file_extension": ".py",
   "mimetype": "text/x-python",
   "name": "python",
   "nbconvert_exporter": "python",
   "pygments_lexer": "ipython3",
   "version": "3.10.13"
  }
 },
 "nbformat": 4,
 "nbformat_minor": 0
}
