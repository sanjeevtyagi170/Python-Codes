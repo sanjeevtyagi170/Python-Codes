{
 "cells": [
  {
   "cell_type": "code",
   "execution_count": 14,
   "metadata": {},
   "outputs": [
    {
     "name": "stderr",
     "output_type": "stream",
     "text": [
      "24/02/12 18:07:21 WARN Utils: Your hostname, codespaces-d65237 resolves to a loopback address: 127.0.0.1; using 172.16.5.4 instead (on interface eth0)\n",
      "24/02/12 18:07:21 WARN Utils: Set SPARK_LOCAL_IP if you need to bind to another address\n",
      "Setting default log level to \"WARN\".\n",
      "To adjust logging level use sc.setLogLevel(newLevel). For SparkR, use setLogLevel(newLevel).\n",
      "24/02/12 18:07:22 WARN NativeCodeLoader: Unable to load native-hadoop library for your platform... using builtin-java classes where applicable\n"
     ]
    },
    {
     "name": "stderr",
     "output_type": "stream",
     "text": [
      "24/02/12 18:07:33 WARN GarbageCollectionMetrics: To enable non-built-in garbage collector(s) List(G1 Concurrent GC), users should configure it(them) to spark.eventLog.gcMetrics.youngGenerationGarbageCollectors or spark.eventLog.gcMetrics.oldGenerationGarbageCollectors\n"
     ]
    }
   ],
   "source": [
    "from pyspark.sql import SparkSession\n",
    "\n",
    "# Create a Spark session named \"my_app\"\n",
    "spark = SparkSession.builder \\\n",
    "    .appName(\"my_app\") \\\n",
    "    .getOrCreate()"
   ]
  },
  {
   "cell_type": "code",
   "execution_count": 15,
   "metadata": {},
   "outputs": [],
   "source": [
    "def static_tower_data():\n",
    "  # Placeholder DataFrame (simulates reading from \"cell_towers.json.gz\")\n",
    "  df_towers = spark.createDataFrame([\n",
    "    (12345, \"Anytown\", \"Any County\", \"Any State\", [-74.0060, 40.7128]),\n",
    "    (67890, \"Cityville\", \"Countyville\", \"Stateville\", [-73.9857, 40.7042]),\n",
    "    (24680, \"Smalltown\", \"Small County\", \"Small State\", [-73.9960, 40.7270])], \n",
    "                                    [\"GlobalID\", \"City\", \"County\", \"State\", \"coordinates\"])\n",
    "\n",
    "  # Data selection as in the prompt\n",
    "  return df_towers.select(\n",
    "      df_towers.GlobalID.alias(\"GlobalID\"),\n",
    "      df_towers.City.alias(\"City\"),\n",
    "      df_towers.County.alias(\"County\"),\n",
    "      df_towers.State.alias(\"State\"),\n",
    "      df_towers.coordinates[0].alias(\"Longitude\"),\n",
    "      df_towers.coordinates[1].alias(\"Latitude\")\n",
    "  )"
   ]
  },
  {
   "cell_type": "code",
   "execution_count": 17,
   "metadata": {},
   "outputs": [
    {
     "name": "stderr",
     "output_type": "stream",
     "text": [
      "                                                                                \r"
     ]
    },
    {
     "name": "stdout",
     "output_type": "stream",
     "text": [
      "+--------+---------+------------+-----------+---------+--------+\n",
      "|GlobalID|     City|      County|      State|Longitude|Latitude|\n",
      "+--------+---------+------------+-----------+---------+--------+\n",
      "|   12345|  Anytown|  Any County|  Any State|  -74.006| 40.7128|\n",
      "|   67890|Cityville| Countyville| Stateville| -73.9857| 40.7042|\n",
      "|   24680|Smalltown|Small County|Small State|  -73.996|  40.727|\n",
      "+--------+---------+------------+-----------+---------+--------+\n",
      "\n",
      "None\n"
     ]
    }
   ],
   "source": [
    "print(static_tower_data().show())"
   ]
  },
  {
   "cell_type": "code",
   "execution_count": 18,
   "metadata": {},
   "outputs": [
    {
     "ename": "NameError",
     "evalue": "name 'dlt' is not defined",
     "output_type": "error",
     "traceback": [
      "\u001b[0;31m---------------------------------------------------------------------------\u001b[0m",
      "\u001b[0;31mNameError\u001b[0m                                 Traceback (most recent call last)",
      "Cell \u001b[0;32mIn[18], line 3\u001b[0m\n\u001b[1;32m      1\u001b[0m \u001b[38;5;28;01mimport\u001b[39;00m \u001b[38;5;21;01mpyspark\u001b[39;00m\u001b[38;5;21;01m.\u001b[39;00m\u001b[38;5;21;01msql\u001b[39;00m\u001b[38;5;21;01m.\u001b[39;00m\u001b[38;5;21;01mfunctions\u001b[39;00m \u001b[38;5;28;01mas\u001b[39;00m \u001b[38;5;21;01mF\u001b[39;00m\n\u001b[0;32m----> 3\u001b[0m \u001b[38;5;129m@dlt\u001b[39m\u001b[38;5;241m.\u001b[39mtable(comment\u001b[38;5;241m=\u001b[39m\u001b[38;5;124m\"\u001b[39m\u001b[38;5;124mCDR Stream - Silver (Tower Info Added)\u001b[39m\u001b[38;5;124m\"\u001b[39m)\n\u001b[1;32m      4\u001b[0m \u001b[38;5;129m@dlt\u001b[39m\u001b[38;5;241m.\u001b[39mexpect_or_drop(\u001b[38;5;124m\"\u001b[39m\u001b[38;5;124mtowerId\u001b[39m\u001b[38;5;124m\"\u001b[39m, \u001b[38;5;124m\"\u001b[39m\u001b[38;5;124mtowerId IS NOT NULL\u001b[39m\u001b[38;5;124m\"\u001b[39m)\n\u001b[1;32m      5\u001b[0m \u001b[38;5;129m@dlt\u001b[39m\u001b[38;5;241m.\u001b[39mexpect_or_drop(\u001b[38;5;124m\"\u001b[39m\u001b[38;5;124mtype\u001b[39m\u001b[38;5;124m\"\u001b[39m, \u001b[38;5;124m\"\u001b[39m\u001b[38;5;124mtype IS NOT NULL\u001b[39m\u001b[38;5;124m\"\u001b[39m)\n\u001b[1;32m      6\u001b[0m \u001b[38;5;28;01mdef\u001b[39;00m \u001b[38;5;21mcdr_stream_silver\u001b[39m():\n\u001b[1;32m      7\u001b[0m   \u001b[38;5;66;03m#get static tower data\u001b[39;00m\n\u001b[1;32m      8\u001b[0m   df_towers \u001b[38;5;241m=\u001b[39m dlt\u001b[38;5;241m.\u001b[39mread(\u001b[38;5;124m\"\u001b[39m\u001b[38;5;124mstatic_tower_data\u001b[39m\u001b[38;5;124m\"\u001b[39m)\n\u001b[1;32m     10\u001b[0m   df_cdr_bronze \u001b[38;5;241m=\u001b[39m dlt\u001b[38;5;241m.\u001b[39mread_stream(\u001b[38;5;124m\"\u001b[39m\u001b[38;5;124mcdr_stream_bronze\u001b[39m\u001b[38;5;124m\"\u001b[39m)\n",
      "\u001b[0;31mNameError\u001b[0m: name 'dlt' is not defined"
     ]
    }
   ],
   "source": [
    "import pyspark.sql.functions as F\n",
    " \n",
    "@dlt.table(comment=\"CDR Stream - Silver (Tower Info Added)\")\n",
    "@dlt.expect_or_drop(\"towerId\", \"towerId IS NOT NULL\")\n",
    "@dlt.expect_or_drop(\"type\", \"type IS NOT NULL\")\n",
    "def cdr_stream_silver():\n",
    "  #get static tower data\n",
    "  df_towers = dlt.read(\"static_tower_data\")\n",
    "  \n",
    "  df_cdr_bronze = dlt.read_stream(\"cdr_stream_bronze\")\n",
    "  #join CDR data with tower data\n",
    "  return df_cdr_bronze.join(df_towers, df_cdr_bronze.towerId == df_towers.GlobalID)"
   ]
  },
  {
   "cell_type": "code",
   "execution_count": 21,
   "metadata": {},
   "outputs": [
    {
     "name": "stdout",
     "output_type": "stream",
     "text": [
      "uanh\n"
     ]
    }
   ],
   "source": [
    "decode(message_file):\n",
    "    "
   ]
  },
  {
   "cell_type": "code",
   "execution_count": 43,
   "metadata": {},
   "outputs": [
    {
     "name": "stdout",
     "output_type": "stream",
     "text": [
      "I love computers very much\n"
     ]
    }
   ],
   "source": [
    "import pandas as pd\n",
    "with open(\"input.txt\",\"r\") as fl:\n",
    "    lines=fl.read().split(\"\\n\")\n",
    "numbers=[]\n",
    "text=[]\n",
    "for line in lines:\n",
    "    word=line.split()\n",
    "    numbers.append(int(word[0]))\n",
    "    text.append(word[1])\n",
    "\n",
    "df=pd.DataFrame({\"numbers\": numbers, \"text\": text})\n",
    "encoded_numbers=[]\n",
    "x=len(df[\"numbers\"])\n",
    "y=int(round((pow(x, 0.5045)*(1.341)),0))\n",
    "for i in range(y+2):\n",
    "    seq=int((i*(i+1)/2))\n",
    "    encoded_numbers.append(seq)\n",
    "output=df[df[\"numbers\"].isin(encoded_numbers)].sort_values(by=\"numbers\")[\"text\"].tolist()\n",
    "print(\" \".join(output))"
   ]
  },
  {
   "cell_type": "code",
   "execution_count": 36,
   "metadata": {},
   "outputs": [
    {
     "name": "stdout",
     "output_type": "stream",
     "text": [
      "    numbers       text\n",
      "0         3       love\n",
      "1         6  computers\n",
      "2         2       dogs\n",
      "3         4       cats\n",
      "4         1          I\n",
      "5         5        you\n",
      "6         7       aefs\n",
      "7         8        gdg\n",
      "8         9          s\n",
      "9        10       very\n",
      "10       11        you\n",
      "11       12       aefs\n",
      "12       13        gdg\n",
      "13       14          s\n",
      "14       15       much\n"
     ]
    }
   ],
   "source": [
    "print(df)"
   ]
  },
  {
   "cell_type": "code",
   "execution_count": 96,
   "metadata": {},
   "outputs": [
    {
     "data": {
      "text/plain": [
       "6.0"
      ]
     },
     "execution_count": 96,
     "metadata": {},
     "output_type": "execute_result"
    }
   ],
   "source": [
    "x/1"
   ]
  },
  {
   "cell_type": "code",
   "execution_count": 74,
   "metadata": {},
   "outputs": [],
   "source": [
    "# rows = []\n",
    "# n=len(data)\n",
    "# x=int((n+1)*((n+1)+1)/2)\n",
    "# for i in range(x):\n",
    "#     seq=int((i*(i+1)/2))\n",
    "#     print(data[seq:(seq+i+1)])\n",
    "    \n",
    "#     x=44\n",
    "# m=0.02\n",
    "# c=13\n",
    "# print(round((m*x)+c,-1))"
   ]
  },
  {
   "cell_type": "code",
   "execution_count": null,
   "metadata": {},
   "outputs": [],
   "source": []
  },
  {
   "cell_type": "code",
   "execution_count": null,
   "metadata": {},
   "outputs": [],
   "source": []
  }
 ],
 "metadata": {
  "kernelspec": {
   "display_name": "Python 3",
   "language": "python",
   "name": "python3"
  },
  "language_info": {
   "codemirror_mode": {
    "name": "ipython",
    "version": 3
   },
   "file_extension": ".py",
   "mimetype": "text/x-python",
   "name": "python",
   "nbconvert_exporter": "python",
   "pygments_lexer": "ipython3",
   "version": "3.10.13"
  }
 },
 "nbformat": 4,
 "nbformat_minor": 2
}
