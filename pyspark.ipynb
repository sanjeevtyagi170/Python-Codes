{
 "cells": [
  {
   "cell_type": "code",
   "execution_count": 7,
   "metadata": {},
   "outputs": [],
   "source": [
    "from pyspark.sql import SparkSession\n",
    "from pyspark.sql.window import Window\n",
    "from pyspark.sql.functions import row_number, sum\n",
    "import pandas as pd\n",
    "import numpy as np"
   ]
  },
  {
   "cell_type": "code",
   "execution_count": 67,
   "metadata": {},
   "outputs": [
    {
     "name": "stdout",
     "output_type": "stream",
     "text": [
      "+------+-----+----+-------+\n",
      "|salary|month|year|ytd_sum|\n",
      "+------+-----+----+-------+\n",
      "|   400|    1|2021|    400|\n",
      "|   500|    1|2021|    900|\n",
      "|   100|    1|2022|    100|\n",
      "|  1100|    1|2022|   1200|\n",
      "|   600|    2|2022|    600|\n",
      "|   700|    2|2022|   1300|\n",
      "|  1000|    3|2022|   1000|\n",
      "+------+-----+----+-------+\n",
      "\n"
     ]
    }
   ],
   "source": [
    "spark = SparkSession.builder.appName(\"sparkWindowFunctionsExample\").getOrCreate()\n",
    "data = [(1,100,1,2022),(1,700,2,2022),(1,600,2,2022),(2,1000,3,2022),(2,1100,1,2022),(3,400,1,2021),(3,500,1,2021)]\n",
    "df = spark.createDataFrame(data,schema=[\"id\",\"salary\",\"month\",\"year\"])\n",
    "df.createOrReplaceTempView(\"df\")\n",
    "window_1=Window.partitionBy([\"year\",\"month\"]).orderBy(\"salary\")\n",
    "df=df.withColumn(\"ytd_sum\",sum(\"salary\").over(window_1)).drop(\"id\")\n",
    "df.show()"
   ]
  },
  {
   "cell_type": "code",
   "execution_count": 68,
   "metadata": {},
   "outputs": [
    {
     "name": "stdout",
     "output_type": "stream",
     "text": [
      "+------+-----+----+-------+\n",
      "|salary|month|year|ytd_sum|\n",
      "+------+-----+----+-------+\n",
      "|   400|    1|2021|    400|\n",
      "|   500|    1|2021|    900|\n",
      "|   100|    1|2022|    100|\n",
      "|  1100|    1|2022|   1200|\n",
      "|   600|    2|2022|    600|\n",
      "|   700|    2|2022|   1300|\n",
      "|  1000|    3|2022|   1000|\n",
      "+------+-----+----+-------+\n",
      "\n"
     ]
    }
   ],
   "source": [
    "df2=spark.sql(\"\"\"SELECT\n",
    "    salary,\n",
    "    month,\n",
    "    year,\n",
    "    SUM(salary) OVER (PARTITION BY year,month ORDER BY salary) AS ytd_sum\n",
    "FROM df\n",
    "ORDER BY year, month;\"\"\")\n",
    "df2.show()"
   ]
  },
  {
   "cell_type": "code",
   "execution_count": 71,
   "metadata": {},
   "outputs": [
    {
     "data": {
      "text/html": [
       "<div>\n",
       "<style scoped>\n",
       "    .dataframe tbody tr th:only-of-type {\n",
       "        vertical-align: middle;\n",
       "    }\n",
       "\n",
       "    .dataframe tbody tr th {\n",
       "        vertical-align: top;\n",
       "    }\n",
       "\n",
       "    .dataframe thead th {\n",
       "        text-align: right;\n",
       "    }\n",
       "</style>\n",
       "<table border=\"1\" class=\"dataframe\">\n",
       "  <thead>\n",
       "    <tr style=\"text-align: right;\">\n",
       "      <th></th>\n",
       "      <th>id</th>\n",
       "      <th>salary</th>\n",
       "      <th>month</th>\n",
       "      <th>year</th>\n",
       "    </tr>\n",
       "  </thead>\n",
       "  <tbody>\n",
       "    <tr>\n",
       "      <th>0</th>\n",
       "      <td>1</td>\n",
       "      <td>100</td>\n",
       "      <td>1</td>\n",
       "      <td>2022</td>\n",
       "    </tr>\n",
       "    <tr>\n",
       "      <th>1</th>\n",
       "      <td>1</td>\n",
       "      <td>700</td>\n",
       "      <td>2</td>\n",
       "      <td>2022</td>\n",
       "    </tr>\n",
       "    <tr>\n",
       "      <th>2</th>\n",
       "      <td>1</td>\n",
       "      <td>600</td>\n",
       "      <td>2</td>\n",
       "      <td>2022</td>\n",
       "    </tr>\n",
       "    <tr>\n",
       "      <th>3</th>\n",
       "      <td>2</td>\n",
       "      <td>1000</td>\n",
       "      <td>3</td>\n",
       "      <td>2022</td>\n",
       "    </tr>\n",
       "    <tr>\n",
       "      <th>4</th>\n",
       "      <td>2</td>\n",
       "      <td>1100</td>\n",
       "      <td>1</td>\n",
       "      <td>2022</td>\n",
       "    </tr>\n",
       "    <tr>\n",
       "      <th>5</th>\n",
       "      <td>3</td>\n",
       "      <td>400</td>\n",
       "      <td>1</td>\n",
       "      <td>2021</td>\n",
       "    </tr>\n",
       "    <tr>\n",
       "      <th>6</th>\n",
       "      <td>3</td>\n",
       "      <td>500</td>\n",
       "      <td>1</td>\n",
       "      <td>2021</td>\n",
       "    </tr>\n",
       "  </tbody>\n",
       "</table>\n",
       "</div>"
      ],
      "text/plain": [
       "   id  salary month  year\n",
       "0   1     100     1  2022\n",
       "1   1     700     2  2022\n",
       "2   1     600     2  2022\n",
       "3   2    1000     3  2022\n",
       "4   2    1100     1  2022\n",
       "5   3     400     1  2021\n",
       "6   3     500     1  2021"
      ]
     },
     "metadata": {},
     "output_type": "display_data"
    },
    {
     "data": {
      "text/html": [
       "<div>\n",
       "<style scoped>\n",
       "    .dataframe tbody tr th:only-of-type {\n",
       "        vertical-align: middle;\n",
       "    }\n",
       "\n",
       "    .dataframe tbody tr th {\n",
       "        vertical-align: top;\n",
       "    }\n",
       "\n",
       "    .dataframe thead th {\n",
       "        text-align: right;\n",
       "    }\n",
       "</style>\n",
       "<table border=\"1\" class=\"dataframe\">\n",
       "  <thead>\n",
       "    <tr style=\"text-align: right;\">\n",
       "      <th></th>\n",
       "      <th>salary</th>\n",
       "      <th>month</th>\n",
       "      <th>year</th>\n",
       "      <th>YTD Sum</th>\n",
       "    </tr>\n",
       "  </thead>\n",
       "  <tbody>\n",
       "    <tr>\n",
       "      <th>5</th>\n",
       "      <td>400</td>\n",
       "      <td>1</td>\n",
       "      <td>2021</td>\n",
       "      <td>400</td>\n",
       "    </tr>\n",
       "    <tr>\n",
       "      <th>6</th>\n",
       "      <td>500</td>\n",
       "      <td>1</td>\n",
       "      <td>2021</td>\n",
       "      <td>900</td>\n",
       "    </tr>\n",
       "    <tr>\n",
       "      <th>0</th>\n",
       "      <td>100</td>\n",
       "      <td>1</td>\n",
       "      <td>2022</td>\n",
       "      <td>100</td>\n",
       "    </tr>\n",
       "    <tr>\n",
       "      <th>4</th>\n",
       "      <td>1100</td>\n",
       "      <td>1</td>\n",
       "      <td>2022</td>\n",
       "      <td>1200</td>\n",
       "    </tr>\n",
       "    <tr>\n",
       "      <th>1</th>\n",
       "      <td>700</td>\n",
       "      <td>2</td>\n",
       "      <td>2022</td>\n",
       "      <td>700</td>\n",
       "    </tr>\n",
       "    <tr>\n",
       "      <th>2</th>\n",
       "      <td>600</td>\n",
       "      <td>2</td>\n",
       "      <td>2022</td>\n",
       "      <td>1300</td>\n",
       "    </tr>\n",
       "    <tr>\n",
       "      <th>3</th>\n",
       "      <td>1000</td>\n",
       "      <td>3</td>\n",
       "      <td>2022</td>\n",
       "      <td>1000</td>\n",
       "    </tr>\n",
       "  </tbody>\n",
       "</table>\n",
       "</div>"
      ],
      "text/plain": [
       "   salary month  year  YTD Sum\n",
       "5     400     1  2021      400\n",
       "6     500     1  2021      900\n",
       "0     100     1  2022      100\n",
       "4    1100     1  2022     1200\n",
       "1     700     2  2022      700\n",
       "2     600     2  2022     1300\n",
       "3    1000     3  2022     1000"
      ]
     },
     "execution_count": 71,
     "metadata": {},
     "output_type": "execute_result"
    }
   ],
   "source": [
    "df_dict={\"id\":[1,1,1,2,2,3,3],\"salary\":[100,700,600,1000,1100,400,500],\"month\":[\"1\",\"2\",\"2\",\"3\",\"1\",\"1\",\"1\"],\n",
    "    \"year\":[2022,2022,2022,2022,2022,2021,2021]}\n",
    "df=pd.DataFrame(df_dict)\n",
    "display(df)\n",
    "df[\"YTD Sum\"]=df[[\"year\",\"month\",\"salary\"]].groupby([\"year\",\"month\"])[\"salary\"].cumsum()\n",
    "df.sort_values([\"year\",\"month\"]).drop(\"id\",axis=1)"
   ]
  },
  {
   "cell_type": "code",
   "execution_count": 41,
   "metadata": {},
   "outputs": [
    {
     "data": {
      "text/plain": [
       "[('Grace', 80000), ('Charlie', 65000)]"
      ]
     },
     "execution_count": 41,
     "metadata": {},
     "output_type": "execute_result"
    }
   ],
   "source": [
    "import random\n",
    "\n",
    "def generate_data(num_rows):\n",
    "    names = [\"Alice\", \"Bob\", \"Charlie\", \"David\", \"Emily\", \"Frank\", \"Grace\", \"Harry\", \"Isabella\", \"Jack\"]  # Example names\n",
    "    salaries = range(40000, 120001, 5000)  # Salary range\n",
    "    data = [(random.choice(names), random.choice(salaries)) for _ in range(num_rows)]\n",
    "    return data\n",
    "\n",
    "# Generate 100000 rows of data\n",
    "list_1 = generate_data(5000000)\n",
    "list_1[0:2]"
   ]
  },
  {
   "cell_type": "code",
   "execution_count": 71,
   "metadata": {},
   "outputs": [
    {
     "name": "stdout",
     "output_type": "stream",
     "text": [
      "2645642\n",
      "2645642\n",
      "2645642\n",
      "2645642\n",
      "2645642\n",
      "2645642\n",
      "2645642\n",
      "2645642\n",
      "623 ms ± 91.9 ms per loop (mean ± std. dev. of 7 runs, 1 loop each)\n"
     ]
    }
   ],
   "source": [
    "%%timeit\n",
    "def find_tuples_above_average(list_1):\n",
    "   average_salary = sum(i[1] for i in list_1) / len(list_1)\n",
    "   return [(name, salary) for name, salary in list_1 if salary > average_salary]\n",
    "high_earners = find_tuples_above_average(list_1)\n",
    "print(len(high_earners))"
   ]
  },
  {
   "cell_type": "code",
   "execution_count": 69,
   "metadata": {},
   "outputs": [
    {
     "name": "stderr",
     "output_type": "stream",
     "text": [
      "<magic-timeit>:6: DeprecationWarning: In future, it will be an error for 'np.bool_' scalars to be interpreted as an index\n"
     ]
    },
    {
     "name": "stdout",
     "output_type": "stream",
     "text": [
      "5\n",
      "5\n",
      "5\n",
      "5\n",
      "5\n",
      "5\n",
      "5\n",
      "5\n",
      "685 ms ± 49.6 ms per loop (mean ± std. dev. of 7 runs, 1 loop each)\n"
     ]
    }
   ],
   "source": [
    "%%timeit\n",
    "import numpy as np\n",
    "# names, salaries = zip(*list_1)\n",
    "np_names=np.array(names)\n",
    "np_salaries=np.array(list_1[5][1])\n",
    "average_salary = np_salaries.mean()\n",
    "print(len(names[np_salaries>average_salary]))"
   ]
  },
  {
   "cell_type": "code",
   "execution_count": 61,
   "metadata": {},
   "outputs": [
    {
     "data": {
      "text/plain": [
       "('Charlie', 65000)"
      ]
     },
     "execution_count": 61,
     "metadata": {},
     "output_type": "execute_result"
    }
   ],
   "source": [
    "list_1[:][1]"
   ]
  }
 ],
 "metadata": {
  "kernelspec": {
   "display_name": "Python 3",
   "language": "python",
   "name": "python3"
  },
  "language_info": {
   "codemirror_mode": {
    "name": "ipython",
    "version": 3
   },
   "file_extension": ".py",
   "mimetype": "text/x-python",
   "name": "python",
   "nbconvert_exporter": "python",
   "pygments_lexer": "ipython3",
   "version": "3.10.13"
  }
 },
 "nbformat": 4,
 "nbformat_minor": 2
}
