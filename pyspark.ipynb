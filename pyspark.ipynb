{
 "cells": [
  {
   "cell_type": "code",
   "execution_count": 62,
   "metadata": {},
   "outputs": [],
   "source": [
    "from pyspark.sql import SparkSession\n",
    "from pyspark.sql.window import Window\n",
    "from pyspark.sql.functions import row_number, sum\n",
    "import pandas as pd\n",
    "import numpy as np"
   ]
  },
  {
   "cell_type": "code",
   "execution_count": 67,
   "metadata": {},
   "outputs": [
    {
     "name": "stdout",
     "output_type": "stream",
     "text": [
      "+------+-----+----+-------+\n",
      "|salary|month|year|ytd_sum|\n",
      "+------+-----+----+-------+\n",
      "|   400|    1|2021|    400|\n",
      "|   500|    1|2021|    900|\n",
      "|   100|    1|2022|    100|\n",
      "|  1100|    1|2022|   1200|\n",
      "|   600|    2|2022|    600|\n",
      "|   700|    2|2022|   1300|\n",
      "|  1000|    3|2022|   1000|\n",
      "+------+-----+----+-------+\n",
      "\n"
     ]
    }
   ],
   "source": [
    "spark = SparkSession.builder.appName(\"sparkWindowFunctionsExample\").getOrCreate()\n",
    "data = [(1,100,1,2022),(1,700,2,2022),(1,600,2,2022),(2,1000,3,2022),(2,1100,1,2022),(3,400,1,2021),(3,500,1,2021)]\n",
    "df = spark.createDataFrame(data,schema=[\"id\",\"salary\",\"month\",\"year\"])\n",
    "df.createOrReplaceTempView(\"df\")\n",
    "window_1=Window.partitionBy([\"year\",\"month\"]).orderBy(\"salary\")\n",
    "df=df.withColumn(\"ytd_sum\",sum(\"salary\").over(window_1)).drop(\"id\")\n",
    "df.show()"
   ]
  },
  {
   "cell_type": "code",
   "execution_count": 68,
   "metadata": {},
   "outputs": [
    {
     "name": "stdout",
     "output_type": "stream",
     "text": [
      "+------+-----+----+-------+\n",
      "|salary|month|year|ytd_sum|\n",
      "+------+-----+----+-------+\n",
      "|   400|    1|2021|    400|\n",
      "|   500|    1|2021|    900|\n",
      "|   100|    1|2022|    100|\n",
      "|  1100|    1|2022|   1200|\n",
      "|   600|    2|2022|    600|\n",
      "|   700|    2|2022|   1300|\n",
      "|  1000|    3|2022|   1000|\n",
      "+------+-----+----+-------+\n",
      "\n"
     ]
    }
   ],
   "source": [
    "df2=spark.sql(\"\"\"SELECT\n",
    "    salary,\n",
    "    month,\n",
    "    year,\n",
    "    SUM(salary) OVER (PARTITION BY year,month ORDER BY salary) AS ytd_sum\n",
    "FROM df\n",
    "ORDER BY year, month;\"\"\")\n",
    "df2.show()"
   ]
  },
  {
   "cell_type": "code",
   "execution_count": 71,
   "metadata": {},
   "outputs": [
    {
     "data": {
      "text/html": [
       "<div>\n",
       "<style scoped>\n",
       "    .dataframe tbody tr th:only-of-type {\n",
       "        vertical-align: middle;\n",
       "    }\n",
       "\n",
       "    .dataframe tbody tr th {\n",
       "        vertical-align: top;\n",
       "    }\n",
       "\n",
       "    .dataframe thead th {\n",
       "        text-align: right;\n",
       "    }\n",
       "</style>\n",
       "<table border=\"1\" class=\"dataframe\">\n",
       "  <thead>\n",
       "    <tr style=\"text-align: right;\">\n",
       "      <th></th>\n",
       "      <th>id</th>\n",
       "      <th>salary</th>\n",
       "      <th>month</th>\n",
       "      <th>year</th>\n",
       "    </tr>\n",
       "  </thead>\n",
       "  <tbody>\n",
       "    <tr>\n",
       "      <th>0</th>\n",
       "      <td>1</td>\n",
       "      <td>100</td>\n",
       "      <td>1</td>\n",
       "      <td>2022</td>\n",
       "    </tr>\n",
       "    <tr>\n",
       "      <th>1</th>\n",
       "      <td>1</td>\n",
       "      <td>700</td>\n",
       "      <td>2</td>\n",
       "      <td>2022</td>\n",
       "    </tr>\n",
       "    <tr>\n",
       "      <th>2</th>\n",
       "      <td>1</td>\n",
       "      <td>600</td>\n",
       "      <td>2</td>\n",
       "      <td>2022</td>\n",
       "    </tr>\n",
       "    <tr>\n",
       "      <th>3</th>\n",
       "      <td>2</td>\n",
       "      <td>1000</td>\n",
       "      <td>3</td>\n",
       "      <td>2022</td>\n",
       "    </tr>\n",
       "    <tr>\n",
       "      <th>4</th>\n",
       "      <td>2</td>\n",
       "      <td>1100</td>\n",
       "      <td>1</td>\n",
       "      <td>2022</td>\n",
       "    </tr>\n",
       "    <tr>\n",
       "      <th>5</th>\n",
       "      <td>3</td>\n",
       "      <td>400</td>\n",
       "      <td>1</td>\n",
       "      <td>2021</td>\n",
       "    </tr>\n",
       "    <tr>\n",
       "      <th>6</th>\n",
       "      <td>3</td>\n",
       "      <td>500</td>\n",
       "      <td>1</td>\n",
       "      <td>2021</td>\n",
       "    </tr>\n",
       "  </tbody>\n",
       "</table>\n",
       "</div>"
      ],
      "text/plain": [
       "   id  salary month  year\n",
       "0   1     100     1  2022\n",
       "1   1     700     2  2022\n",
       "2   1     600     2  2022\n",
       "3   2    1000     3  2022\n",
       "4   2    1100     1  2022\n",
       "5   3     400     1  2021\n",
       "6   3     500     1  2021"
      ]
     },
     "metadata": {},
     "output_type": "display_data"
    },
    {
     "data": {
      "text/html": [
       "<div>\n",
       "<style scoped>\n",
       "    .dataframe tbody tr th:only-of-type {\n",
       "        vertical-align: middle;\n",
       "    }\n",
       "\n",
       "    .dataframe tbody tr th {\n",
       "        vertical-align: top;\n",
       "    }\n",
       "\n",
       "    .dataframe thead th {\n",
       "        text-align: right;\n",
       "    }\n",
       "</style>\n",
       "<table border=\"1\" class=\"dataframe\">\n",
       "  <thead>\n",
       "    <tr style=\"text-align: right;\">\n",
       "      <th></th>\n",
       "      <th>salary</th>\n",
       "      <th>month</th>\n",
       "      <th>year</th>\n",
       "      <th>YTD Sum</th>\n",
       "    </tr>\n",
       "  </thead>\n",
       "  <tbody>\n",
       "    <tr>\n",
       "      <th>5</th>\n",
       "      <td>400</td>\n",
       "      <td>1</td>\n",
       "      <td>2021</td>\n",
       "      <td>400</td>\n",
       "    </tr>\n",
       "    <tr>\n",
       "      <th>6</th>\n",
       "      <td>500</td>\n",
       "      <td>1</td>\n",
       "      <td>2021</td>\n",
       "      <td>900</td>\n",
       "    </tr>\n",
       "    <tr>\n",
       "      <th>0</th>\n",
       "      <td>100</td>\n",
       "      <td>1</td>\n",
       "      <td>2022</td>\n",
       "      <td>100</td>\n",
       "    </tr>\n",
       "    <tr>\n",
       "      <th>4</th>\n",
       "      <td>1100</td>\n",
       "      <td>1</td>\n",
       "      <td>2022</td>\n",
       "      <td>1200</td>\n",
       "    </tr>\n",
       "    <tr>\n",
       "      <th>1</th>\n",
       "      <td>700</td>\n",
       "      <td>2</td>\n",
       "      <td>2022</td>\n",
       "      <td>700</td>\n",
       "    </tr>\n",
       "    <tr>\n",
       "      <th>2</th>\n",
       "      <td>600</td>\n",
       "      <td>2</td>\n",
       "      <td>2022</td>\n",
       "      <td>1300</td>\n",
       "    </tr>\n",
       "    <tr>\n",
       "      <th>3</th>\n",
       "      <td>1000</td>\n",
       "      <td>3</td>\n",
       "      <td>2022</td>\n",
       "      <td>1000</td>\n",
       "    </tr>\n",
       "  </tbody>\n",
       "</table>\n",
       "</div>"
      ],
      "text/plain": [
       "   salary month  year  YTD Sum\n",
       "5     400     1  2021      400\n",
       "6     500     1  2021      900\n",
       "0     100     1  2022      100\n",
       "4    1100     1  2022     1200\n",
       "1     700     2  2022      700\n",
       "2     600     2  2022     1300\n",
       "3    1000     3  2022     1000"
      ]
     },
     "execution_count": 71,
     "metadata": {},
     "output_type": "execute_result"
    }
   ],
   "source": [
    "df_dict={\n",
    "    \"id\":[1,1,1,2,2,3,3],\n",
    "    \"salary\":[100,700,600,1000,1100,400,500],\n",
    "    \"month\":[\"1\",\"2\",\"2\",\"3\",\"1\",\"1\",\"1\"],\n",
    "    \"year\":[2022,2022,2022,2022,2022,2021,2021]\n",
    "    }\n",
    "\n",
    "df=pd.DataFrame(df_dict)\n",
    "display(df)\n",
    "df[\"YTD Sum\"]=df[[\"year\",\"month\",\"salary\"]].groupby([\"year\",\"month\"])[\"salary\"].cumsum()\n",
    "df.sort_values([\"year\",\"month\"]).drop(\"id\",axis=1)"
   ]
  },
  {
   "cell_type": "code",
   "execution_count": 4,
   "metadata": {},
   "outputs": [
    {
     "name": "stdout",
     "output_type": "stream",
     "text": [
      "[('pat', 30000)]\n"
     ]
    }
   ],
   "source": [
    "def find_tuples_above_average(list_1):\n",
    "   average_salary = sum(salary for _, salary in list_1) / len(list_1)\n",
    "   return [(name, salary) for name, salary in list_1 if salary > average_salary]\n",
    "\n",
    "# Example usage\n",
    "list_1 = [(\"sanjeev\", 10000), (\"sam\", 20000), (\"pat\", 30000)]\n",
    "high_earners = find_tuples_above_average(list_1)\n",
    "print(high_earners)\n"
   ]
  },
  {
   "cell_type": "code",
   "execution_count": 5,
   "metadata": {},
   "outputs": [
    {
     "name": "stdout",
     "output_type": "stream",
     "text": [
      "('sanjeev', 10000)\n",
      "('sam', 20000)\n",
      "('pat', 30000)\n"
     ]
    }
   ],
   "source": [
    "for i in list_1:\n",
    "    print(i)"
   ]
  }
 ],
 "metadata": {
  "kernelspec": {
   "display_name": "Python 3",
   "language": "python",
   "name": "python3"
  },
  "language_info": {
   "codemirror_mode": {
    "name": "ipython",
    "version": 3
   },
   "file_extension": ".py",
   "mimetype": "text/x-python",
   "name": "python",
   "nbconvert_exporter": "python",
   "pygments_lexer": "ipython3",
   "version": "3.10.13"
  }
 },
 "nbformat": 4,
 "nbformat_minor": 2
}
